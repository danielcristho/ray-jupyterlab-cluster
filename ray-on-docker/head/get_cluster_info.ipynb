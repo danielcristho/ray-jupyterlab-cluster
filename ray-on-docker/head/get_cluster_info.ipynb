{
 "cells": [
  {
   "cell_type": "code",
   "execution_count": 1,
   "id": "174d6b80-2bd1-4128-a0c6-3ab9a81c159b",
   "metadata": {
    "scrolled": true
   },
   "outputs": [
    {
     "name": "stderr",
     "output_type": "stream",
     "text": [
      "2024-10-23 01:44:21,822\tINFO client_builder.py:244 -- Passing the following kwargs to ray.init() on the server: log_to_driver\n",
      "SIGTERM handler is not set because current thread is not the main thread.\n"
     ]
    },
    {
     "name": "stdout",
     "output_type": "stream",
     "text": [
      "This cluster consists of\n",
      "    7 nodes in total\n",
      "    16.0 CPU resources in total\n",
      "    0 GPU resources in total\n",
      "\n",
      "Tasks executed\n",
      "    3134 tasks on 172.18.0.2\n",
      "    3259 tasks on 172.18.0.3\n",
      "    2290 tasks on 172.18.0.4\n",
      "    1317 tasks on 172.18.0.5\n"
     ]
    }
   ],
   "source": [
    "from collections import Counter\n",
    "import socket\n",
    "import time\n",
    "import ray\n",
    "\n",
    "ray.init(address='ray://localhost:10001')\n",
    "\n",
    "# Get the cluster resources\n",
    "cluster_resources = ray.cluster_resources()\n",
    "\n",
    "# Check if GPU resources exist in the cluster\n",
    "num_gpus = cluster_resources.get('GPU', 0)  # Default to 0 if no GPU is found\n",
    "\n",
    "print('''This cluster consists of\n",
    "    {} nodes in total\n",
    "    {} CPU resources in total\n",
    "    {} GPU resources in total\n",
    "'''.format(len(ray.nodes()), cluster_resources['CPU'], num_gpus))\n",
    "\n",
    "# Function to get the IP address of the node\n",
    "@ray.remote\n",
    "def f():\n",
    "    time.sleep(0.001)\n",
    "    # Return IP address.\n",
    "    return socket.gethostbyname(socket.gethostname())\n",
    "\n",
    "# Execute tasks to check IP addresses\n",
    "object_ids = [f.remote() for _ in range(10000)]\n",
    "ip_addresses = ray.get(object_ids)\n",
    "\n",
    "print('Tasks executed')\n",
    "for ip_address, num_tasks in Counter(ip_addresses).items():\n",
    "    print('    {} tasks on {}'.format(num_tasks, ip_address))"
   ]
  },
  {
   "cell_type": "code",
   "execution_count": null,
   "id": "b1ef7f10-7dab-4cf0-8b8f-2c1f674c4ad1",
   "metadata": {},
   "outputs": [],
   "source": []
  }
 ],
 "metadata": {
  "kernelspec": {
   "display_name": "Python 3 (ipykernel)",
   "language": "python",
   "name": "python3"
  },
  "language_info": {
   "codemirror_mode": {
    "name": "ipython",
    "version": 3
   },
   "file_extension": ".py",
   "mimetype": "text/x-python",
   "name": "python",
   "nbconvert_exporter": "python",
   "pygments_lexer": "ipython3",
   "version": "3.9.20"
  }
 },
 "nbformat": 4,
 "nbformat_minor": 5
}
