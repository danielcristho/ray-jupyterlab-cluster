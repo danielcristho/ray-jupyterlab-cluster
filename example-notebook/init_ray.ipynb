{
 "cells": [
  {
   "cell_type": "code",
   "execution_count": null,
   "metadata": {},
   "outputs": [],
   "source": [
    "%pip install -U \"ray[client]==2.9.0\"\n",
    "%pip install -U \"ray[serve]==2.9.0\"\n",
    "%pip install -U ipywidgets"
   ]
  },
  {
   "cell_type": "code",
   "execution_count": 1,
   "metadata": {},
   "outputs": [
    {
     "name": "stderr",
     "output_type": "stream",
     "text": [
      "2024-11-12 23:59:36,453\tINFO client_builder.py:243 -- Passing the following kwargs to ray.init() on the server: ignore_reinit_error\n",
      "SIGTERM handler is not set because current thread is not the main thread.\n"
     ]
    },
    {
     "name": "stdout",
     "output_type": "stream",
     "text": [
      "Cluster Resources: {'CPU': 1.0, 'node:__internal_head__': 1.0, 'memory': 2000000000.0, 'object_store_memory': 517437849.0, 'node:10.244.0.11': 1.0}\n"
     ]
    }
   ],
   "source": [
    "import ray\n",
    "from ray import serve\n",
    "ray.init(\"ray://127.0.0.1:10001\", ignore_reinit_error=True)\n",
    "\n",
    "serve.start()\n",
    "\n",
    "resources = ray.cluster_resources()\n",
    "print(\"Cluster Resources:\", resources)\n"
   ]
  },
  {
   "cell_type": "code",
   "execution_count": 2,
   "metadata": {},
   "outputs": [
    {
     "name": "stdout",
     "output_type": "stream",
     "text": [
      "Ray Serve is running at: http://127.0.0.1:8000/hello_world\n"
     ]
    }
   ],
   "source": [
    "@serve.deployment\n",
    "def hello_world(request):\n",
    "    return \"Hello, Ray Serve!\"\n",
    "serve.run(hello_world.bind())\n",
    "\n",
    "print(f\"Ray Serve is running at: {hello_world.url}\")"
   ]
  }
 ],
 "metadata": {
  "kernelspec": {
   "display_name": ".venv",
   "language": "python",
   "name": "python3"
  },
  "language_info": {
   "codemirror_mode": {
    "name": "ipython",
    "version": 3
   },
   "file_extension": ".py",
   "mimetype": "text/x-python",
   "name": "python",
   "nbconvert_exporter": "python",
   "pygments_lexer": "ipython3",
   "version": "3.8.20"
  }
 },
 "nbformat": 4,
 "nbformat_minor": 2
}
