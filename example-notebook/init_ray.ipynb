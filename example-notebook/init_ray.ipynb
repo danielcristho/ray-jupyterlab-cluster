{
 "cells": [
  {
   "cell_type": "code",
   "execution_count": 7,
   "metadata": {},
   "outputs": [
    {
     "name": "stdout",
     "output_type": "stream",
     "text": [
      "Requirement already satisfied: ray==2.9.0 in /home/danielpepuho/Desktop/Github/pra-ta/.venv/lib/python3.8/site-packages (from ray[client]==2.9.0) (2.9.0)\n",
      "Requirement already satisfied: click>=7.0 in /home/danielpepuho/Desktop/Github/pra-ta/.venv/lib/python3.8/site-packages (from ray==2.9.0->ray[client]==2.9.0) (8.1.7)\n",
      "Requirement already satisfied: filelock in /home/danielpepuho/Desktop/Github/pra-ta/.venv/lib/python3.8/site-packages (from ray==2.9.0->ray[client]==2.9.0) (3.16.1)\n",
      "Requirement already satisfied: jsonschema in /home/danielpepuho/Desktop/Github/pra-ta/.venv/lib/python3.8/site-packages (from ray==2.9.0->ray[client]==2.9.0) (4.23.0)\n",
      "Requirement already satisfied: msgpack<2.0.0,>=1.0.0 in /home/danielpepuho/Desktop/Github/pra-ta/.venv/lib/python3.8/site-packages (from ray==2.9.0->ray[client]==2.9.0) (1.1.0)\n",
      "Requirement already satisfied: packaging in /home/danielpepuho/Desktop/Github/pra-ta/.venv/lib/python3.8/site-packages (from ray==2.9.0->ray[client]==2.9.0) (24.2)\n",
      "Requirement already satisfied: protobuf!=3.19.5,>=3.15.3 in /home/danielpepuho/Desktop/Github/pra-ta/.venv/lib/python3.8/site-packages (from ray==2.9.0->ray[client]==2.9.0) (5.28.3)\n",
      "Requirement already satisfied: pyyaml in /home/danielpepuho/Desktop/Github/pra-ta/.venv/lib/python3.8/site-packages (from ray==2.9.0->ray[client]==2.9.0) (6.0.2)\n",
      "Requirement already satisfied: aiosignal in /home/danielpepuho/Desktop/Github/pra-ta/.venv/lib/python3.8/site-packages (from ray==2.9.0->ray[client]==2.9.0) (1.3.1)\n",
      "Requirement already satisfied: frozenlist in /home/danielpepuho/Desktop/Github/pra-ta/.venv/lib/python3.8/site-packages (from ray==2.9.0->ray[client]==2.9.0) (1.5.0)\n",
      "Requirement already satisfied: requests in /home/danielpepuho/Desktop/Github/pra-ta/.venv/lib/python3.8/site-packages (from ray==2.9.0->ray[client]==2.9.0) (2.32.3)\n",
      "Requirement already satisfied: grpcio in /home/danielpepuho/Desktop/Github/pra-ta/.venv/lib/python3.8/site-packages (from ray[client]==2.9.0) (1.67.1)\n",
      "Requirement already satisfied: attrs>=22.2.0 in /home/danielpepuho/Desktop/Github/pra-ta/.venv/lib/python3.8/site-packages (from jsonschema->ray==2.9.0->ray[client]==2.9.0) (24.2.0)\n",
      "Requirement already satisfied: importlib-resources>=1.4.0 in /home/danielpepuho/Desktop/Github/pra-ta/.venv/lib/python3.8/site-packages (from jsonschema->ray==2.9.0->ray[client]==2.9.0) (6.4.5)\n",
      "Requirement already satisfied: jsonschema-specifications>=2023.03.6 in /home/danielpepuho/Desktop/Github/pra-ta/.venv/lib/python3.8/site-packages (from jsonschema->ray==2.9.0->ray[client]==2.9.0) (2023.12.1)\n",
      "Requirement already satisfied: pkgutil-resolve-name>=1.3.10 in /home/danielpepuho/Desktop/Github/pra-ta/.venv/lib/python3.8/site-packages (from jsonschema->ray==2.9.0->ray[client]==2.9.0) (1.3.10)\n",
      "Requirement already satisfied: referencing>=0.28.4 in /home/danielpepuho/Desktop/Github/pra-ta/.venv/lib/python3.8/site-packages (from jsonschema->ray==2.9.0->ray[client]==2.9.0) (0.35.1)\n",
      "Requirement already satisfied: rpds-py>=0.7.1 in /home/danielpepuho/Desktop/Github/pra-ta/.venv/lib/python3.8/site-packages (from jsonschema->ray==2.9.0->ray[client]==2.9.0) (0.20.1)\n",
      "Requirement already satisfied: charset-normalizer<4,>=2 in /home/danielpepuho/Desktop/Github/pra-ta/.venv/lib/python3.8/site-packages (from requests->ray==2.9.0->ray[client]==2.9.0) (3.4.0)\n",
      "Requirement already satisfied: idna<4,>=2.5 in /home/danielpepuho/Desktop/Github/pra-ta/.venv/lib/python3.8/site-packages (from requests->ray==2.9.0->ray[client]==2.9.0) (3.10)\n",
      "Requirement already satisfied: urllib3<3,>=1.21.1 in /home/danielpepuho/Desktop/Github/pra-ta/.venv/lib/python3.8/site-packages (from requests->ray==2.9.0->ray[client]==2.9.0) (2.2.3)\n",
      "Requirement already satisfied: certifi>=2017.4.17 in /home/danielpepuho/Desktop/Github/pra-ta/.venv/lib/python3.8/site-packages (from requests->ray==2.9.0->ray[client]==2.9.0) (2024.8.30)\n",
      "Requirement already satisfied: zipp>=3.1.0 in /home/danielpepuho/Desktop/Github/pra-ta/.venv/lib/python3.8/site-packages (from importlib-resources>=1.4.0->jsonschema->ray==2.9.0->ray[client]==2.9.0) (3.20.2)\n",
      "Note: you may need to restart the kernel to use updated packages.\n"
     ]
    },
    {
     "name": "stderr",
     "output_type": "stream",
     "text": [
      "WARNING: All log messages before absl::InitializeLog() is called are written to STDERR\n",
      "I0000 00:00:1731463373.075205  578221 fork_posix.cc:77] Other threads are currently calling into gRPC, skipping fork() handlers\n"
     ]
    },
    {
     "name": "stdout",
     "output_type": "stream",
     "text": [
      "E0000 00:00:1731463373.107605  786783 completion_queue.cc:741] Kick failed: UNKNOWN:eventfd_write: Bad file descriptor (9) {created_time:\"2024-11-13T09:02:53.107595886+07:00\"}\n",
      "Requirement already satisfied: ray==2.9.0 in /home/danielpepuho/Desktop/Github/pra-ta/.venv/lib/python3.8/site-packages (from ray[serve]==2.9.0) (2.9.0)\n",
      "Requirement already satisfied: click>=7.0 in /home/danielpepuho/Desktop/Github/pra-ta/.venv/lib/python3.8/site-packages (from ray==2.9.0->ray[serve]==2.9.0) (8.1.7)\n",
      "Requirement already satisfied: filelock in /home/danielpepuho/Desktop/Github/pra-ta/.venv/lib/python3.8/site-packages (from ray==2.9.0->ray[serve]==2.9.0) (3.16.1)\n",
      "Requirement already satisfied: jsonschema in /home/danielpepuho/Desktop/Github/pra-ta/.venv/lib/python3.8/site-packages (from ray==2.9.0->ray[serve]==2.9.0) (4.23.0)\n",
      "Requirement already satisfied: msgpack<2.0.0,>=1.0.0 in /home/danielpepuho/Desktop/Github/pra-ta/.venv/lib/python3.8/site-packages (from ray==2.9.0->ray[serve]==2.9.0) (1.1.0)\n",
      "Requirement already satisfied: packaging in /home/danielpepuho/Desktop/Github/pra-ta/.venv/lib/python3.8/site-packages (from ray==2.9.0->ray[serve]==2.9.0) (24.2)\n",
      "Requirement already satisfied: protobuf!=3.19.5,>=3.15.3 in /home/danielpepuho/Desktop/Github/pra-ta/.venv/lib/python3.8/site-packages (from ray==2.9.0->ray[serve]==2.9.0) (5.28.3)\n",
      "Requirement already satisfied: pyyaml in /home/danielpepuho/Desktop/Github/pra-ta/.venv/lib/python3.8/site-packages (from ray==2.9.0->ray[serve]==2.9.0) (6.0.2)\n",
      "Requirement already satisfied: aiosignal in /home/danielpepuho/Desktop/Github/pra-ta/.venv/lib/python3.8/site-packages (from ray==2.9.0->ray[serve]==2.9.0) (1.3.1)\n",
      "Requirement already satisfied: frozenlist in /home/danielpepuho/Desktop/Github/pra-ta/.venv/lib/python3.8/site-packages (from ray==2.9.0->ray[serve]==2.9.0) (1.5.0)\n",
      "Requirement already satisfied: requests in /home/danielpepuho/Desktop/Github/pra-ta/.venv/lib/python3.8/site-packages (from ray==2.9.0->ray[serve]==2.9.0) (2.32.3)\n",
      "Requirement already satisfied: colorful in /home/danielpepuho/Desktop/Github/pra-ta/.venv/lib/python3.8/site-packages (from ray[serve]==2.9.0) (0.5.6)\n",
      "Requirement already satisfied: watchfiles in /home/danielpepuho/Desktop/Github/pra-ta/.venv/lib/python3.8/site-packages (from ray[serve]==2.9.0) (0.24.0)\n",
      "Requirement already satisfied: fastapi in /home/danielpepuho/Desktop/Github/pra-ta/.venv/lib/python3.8/site-packages (from ray[serve]==2.9.0) (0.115.5)\n",
      "Requirement already satisfied: aiorwlock in /home/danielpepuho/Desktop/Github/pra-ta/.venv/lib/python3.8/site-packages (from ray[serve]==2.9.0) (1.4.0)\n",
      "Requirement already satisfied: py-spy>=0.2.0 in /home/danielpepuho/Desktop/Github/pra-ta/.venv/lib/python3.8/site-packages (from ray[serve]==2.9.0) (0.4.0)\n",
      "Requirement already satisfied: prometheus-client>=0.7.1 in /home/danielpepuho/Desktop/Github/pra-ta/.venv/lib/python3.8/site-packages (from ray[serve]==2.9.0) (0.21.0)\n",
      "Requirement already satisfied: gpustat>=1.0.0 in /home/danielpepuho/Desktop/Github/pra-ta/.venv/lib/python3.8/site-packages (from ray[serve]==2.9.0) (1.1.1)\n",
      "Requirement already satisfied: aiohttp>=3.7 in /home/danielpepuho/Desktop/Github/pra-ta/.venv/lib/python3.8/site-packages (from ray[serve]==2.9.0) (3.10.10)\n",
      "Requirement already satisfied: smart-open in /home/danielpepuho/Desktop/Github/pra-ta/.venv/lib/python3.8/site-packages (from ray[serve]==2.9.0) (7.0.5)\n",
      "Requirement already satisfied: starlette in /home/danielpepuho/Desktop/Github/pra-ta/.venv/lib/python3.8/site-packages (from ray[serve]==2.9.0) (0.41.2)\n",
      "Requirement already satisfied: aiohttp-cors in /home/danielpepuho/Desktop/Github/pra-ta/.venv/lib/python3.8/site-packages (from ray[serve]==2.9.0) (0.7.0)\n",
      "Requirement already satisfied: pydantic!=2.0.*,!=2.1.*,!=2.2.*,!=2.3.*,!=2.4.*,<3 in /home/danielpepuho/Desktop/Github/pra-ta/.venv/lib/python3.8/site-packages (from ray[serve]==2.9.0) (2.9.2)\n",
      "Requirement already satisfied: virtualenv<20.21.1,>=20.0.24 in /home/danielpepuho/Desktop/Github/pra-ta/.venv/lib/python3.8/site-packages (from ray[serve]==2.9.0) (20.21.0)\n",
      "Requirement already satisfied: opencensus in /home/danielpepuho/Desktop/Github/pra-ta/.venv/lib/python3.8/site-packages (from ray[serve]==2.9.0) (0.11.4)\n",
      "Requirement already satisfied: uvicorn[standard] in /home/danielpepuho/Desktop/Github/pra-ta/.venv/lib/python3.8/site-packages (from ray[serve]==2.9.0) (0.32.0)\n",
      "Requirement already satisfied: grpcio>=1.32.0 in /home/danielpepuho/Desktop/Github/pra-ta/.venv/lib/python3.8/site-packages (from ray[serve]==2.9.0) (1.67.1)\n",
      "Requirement already satisfied: aiohappyeyeballs>=2.3.0 in /home/danielpepuho/Desktop/Github/pra-ta/.venv/lib/python3.8/site-packages (from aiohttp>=3.7->ray[serve]==2.9.0) (2.4.3)\n",
      "Requirement already satisfied: attrs>=17.3.0 in /home/danielpepuho/Desktop/Github/pra-ta/.venv/lib/python3.8/site-packages (from aiohttp>=3.7->ray[serve]==2.9.0) (24.2.0)\n",
      "Requirement already satisfied: multidict<7.0,>=4.5 in /home/danielpepuho/Desktop/Github/pra-ta/.venv/lib/python3.8/site-packages (from aiohttp>=3.7->ray[serve]==2.9.0) (6.1.0)\n",
      "Requirement already satisfied: yarl<2.0,>=1.12.0 in /home/danielpepuho/Desktop/Github/pra-ta/.venv/lib/python3.8/site-packages (from aiohttp>=3.7->ray[serve]==2.9.0) (1.15.2)\n",
      "Requirement already satisfied: async-timeout<5.0,>=4.0 in /home/danielpepuho/Desktop/Github/pra-ta/.venv/lib/python3.8/site-packages (from aiohttp>=3.7->ray[serve]==2.9.0) (4.0.3)\n",
      "Requirement already satisfied: nvidia-ml-py>=11.450.129 in /home/danielpepuho/Desktop/Github/pra-ta/.venv/lib/python3.8/site-packages (from gpustat>=1.0.0->ray[serve]==2.9.0) (12.560.30)\n",
      "Requirement already satisfied: psutil>=5.6.0 in /home/danielpepuho/Desktop/Github/pra-ta/.venv/lib/python3.8/site-packages (from gpustat>=1.0.0->ray[serve]==2.9.0) (6.1.0)\n",
      "Requirement already satisfied: blessed>=1.17.1 in /home/danielpepuho/Desktop/Github/pra-ta/.venv/lib/python3.8/site-packages (from gpustat>=1.0.0->ray[serve]==2.9.0) (1.20.0)\n",
      "Requirement already satisfied: annotated-types>=0.6.0 in /home/danielpepuho/Desktop/Github/pra-ta/.venv/lib/python3.8/site-packages (from pydantic!=2.0.*,!=2.1.*,!=2.2.*,!=2.3.*,!=2.4.*,<3->ray[serve]==2.9.0) (0.7.0)\n",
      "Requirement already satisfied: pydantic-core==2.23.4 in /home/danielpepuho/Desktop/Github/pra-ta/.venv/lib/python3.8/site-packages (from pydantic!=2.0.*,!=2.1.*,!=2.2.*,!=2.3.*,!=2.4.*,<3->ray[serve]==2.9.0) (2.23.4)\n",
      "Requirement already satisfied: typing-extensions>=4.6.1 in /home/danielpepuho/Desktop/Github/pra-ta/.venv/lib/python3.8/site-packages (from pydantic!=2.0.*,!=2.1.*,!=2.2.*,!=2.3.*,!=2.4.*,<3->ray[serve]==2.9.0) (4.12.2)\n",
      "Requirement already satisfied: distlib<1,>=0.3.6 in /home/danielpepuho/Desktop/Github/pra-ta/.venv/lib/python3.8/site-packages (from virtualenv<20.21.1,>=20.0.24->ray[serve]==2.9.0) (0.3.9)\n",
      "Requirement already satisfied: platformdirs<4,>=2.4 in /home/danielpepuho/Desktop/Github/pra-ta/.venv/lib/python3.8/site-packages (from virtualenv<20.21.1,>=20.0.24->ray[serve]==2.9.0) (3.11.0)\n",
      "Requirement already satisfied: anyio<5,>=3.4.0 in /home/danielpepuho/Desktop/Github/pra-ta/.venv/lib/python3.8/site-packages (from starlette->ray[serve]==2.9.0) (4.5.2)\n",
      "Requirement already satisfied: importlib-resources>=1.4.0 in /home/danielpepuho/Desktop/Github/pra-ta/.venv/lib/python3.8/site-packages (from jsonschema->ray==2.9.0->ray[serve]==2.9.0) (6.4.5)\n",
      "Requirement already satisfied: jsonschema-specifications>=2023.03.6 in /home/danielpepuho/Desktop/Github/pra-ta/.venv/lib/python3.8/site-packages (from jsonschema->ray==2.9.0->ray[serve]==2.9.0) (2023.12.1)\n",
      "Requirement already satisfied: pkgutil-resolve-name>=1.3.10 in /home/danielpepuho/Desktop/Github/pra-ta/.venv/lib/python3.8/site-packages (from jsonschema->ray==2.9.0->ray[serve]==2.9.0) (1.3.10)\n",
      "Requirement already satisfied: referencing>=0.28.4 in /home/danielpepuho/Desktop/Github/pra-ta/.venv/lib/python3.8/site-packages (from jsonschema->ray==2.9.0->ray[serve]==2.9.0) (0.35.1)\n",
      "Requirement already satisfied: rpds-py>=0.7.1 in /home/danielpepuho/Desktop/Github/pra-ta/.venv/lib/python3.8/site-packages (from jsonschema->ray==2.9.0->ray[serve]==2.9.0) (0.20.1)\n",
      "Requirement already satisfied: opencensus-context>=0.1.3 in /home/danielpepuho/Desktop/Github/pra-ta/.venv/lib/python3.8/site-packages (from opencensus->ray[serve]==2.9.0) (0.1.3)\n",
      "Requirement already satisfied: six~=1.16 in /home/danielpepuho/Desktop/Github/pra-ta/.venv/lib/python3.8/site-packages (from opencensus->ray[serve]==2.9.0) (1.16.0)\n",
      "Requirement already satisfied: google-api-core<3.0.0,>=1.0.0 in /home/danielpepuho/Desktop/Github/pra-ta/.venv/lib/python3.8/site-packages (from opencensus->ray[serve]==2.9.0) (2.23.0)\n",
      "Requirement already satisfied: charset-normalizer<4,>=2 in /home/danielpepuho/Desktop/Github/pra-ta/.venv/lib/python3.8/site-packages (from requests->ray==2.9.0->ray[serve]==2.9.0) (3.4.0)\n",
      "Requirement already satisfied: idna<4,>=2.5 in /home/danielpepuho/Desktop/Github/pra-ta/.venv/lib/python3.8/site-packages (from requests->ray==2.9.0->ray[serve]==2.9.0) (3.10)\n",
      "Requirement already satisfied: urllib3<3,>=1.21.1 in /home/danielpepuho/Desktop/Github/pra-ta/.venv/lib/python3.8/site-packages (from requests->ray==2.9.0->ray[serve]==2.9.0) (2.2.3)\n",
      "Requirement already satisfied: certifi>=2017.4.17 in /home/danielpepuho/Desktop/Github/pra-ta/.venv/lib/python3.8/site-packages (from requests->ray==2.9.0->ray[serve]==2.9.0) (2024.8.30)\n",
      "Requirement already satisfied: wrapt in /home/danielpepuho/Desktop/Github/pra-ta/.venv/lib/python3.8/site-packages (from smart-open->ray[serve]==2.9.0) (1.16.0)\n",
      "Requirement already satisfied: h11>=0.8 in /home/danielpepuho/Desktop/Github/pra-ta/.venv/lib/python3.8/site-packages (from uvicorn[standard]; extra == \"serve\"->ray[serve]==2.9.0) (0.14.0)\n",
      "Requirement already satisfied: httptools>=0.5.0 in /home/danielpepuho/Desktop/Github/pra-ta/.venv/lib/python3.8/site-packages (from uvicorn[standard]; extra == \"serve\"->ray[serve]==2.9.0) (0.6.4)\n",
      "Requirement already satisfied: python-dotenv>=0.13 in /home/danielpepuho/Desktop/Github/pra-ta/.venv/lib/python3.8/site-packages (from uvicorn[standard]; extra == \"serve\"->ray[serve]==2.9.0) (1.0.1)\n",
      "Requirement already satisfied: uvloop!=0.15.0,!=0.15.1,>=0.14.0 in /home/danielpepuho/Desktop/Github/pra-ta/.venv/lib/python3.8/site-packages (from uvicorn[standard]; extra == \"serve\"->ray[serve]==2.9.0) (0.21.0)\n",
      "Requirement already satisfied: websockets>=10.4 in /home/danielpepuho/Desktop/Github/pra-ta/.venv/lib/python3.8/site-packages (from uvicorn[standard]; extra == \"serve\"->ray[serve]==2.9.0) (13.1)\n",
      "Requirement already satisfied: sniffio>=1.1 in /home/danielpepuho/Desktop/Github/pra-ta/.venv/lib/python3.8/site-packages (from anyio<5,>=3.4.0->starlette->ray[serve]==2.9.0) (1.3.1)\n",
      "Requirement already satisfied: exceptiongroup>=1.0.2 in /home/danielpepuho/Desktop/Github/pra-ta/.venv/lib/python3.8/site-packages (from anyio<5,>=3.4.0->starlette->ray[serve]==2.9.0) (1.2.2)\n",
      "Requirement already satisfied: wcwidth>=0.1.4 in /home/danielpepuho/Desktop/Github/pra-ta/.venv/lib/python3.8/site-packages (from blessed>=1.17.1->gpustat>=1.0.0->ray[serve]==2.9.0) (0.2.13)\n",
      "Requirement already satisfied: googleapis-common-protos<2.0.dev0,>=1.56.2 in /home/danielpepuho/Desktop/Github/pra-ta/.venv/lib/python3.8/site-packages (from google-api-core<3.0.0,>=1.0.0->opencensus->ray[serve]==2.9.0) (1.65.0)\n",
      "Requirement already satisfied: proto-plus<2.0.0dev,>=1.22.3 in /home/danielpepuho/Desktop/Github/pra-ta/.venv/lib/python3.8/site-packages (from google-api-core<3.0.0,>=1.0.0->opencensus->ray[serve]==2.9.0) (1.25.0)\n",
      "Requirement already satisfied: google-auth<3.0.dev0,>=2.14.1 in /home/danielpepuho/Desktop/Github/pra-ta/.venv/lib/python3.8/site-packages (from google-api-core<3.0.0,>=1.0.0->opencensus->ray[serve]==2.9.0) (2.36.0)\n",
      "Requirement already satisfied: zipp>=3.1.0 in /home/danielpepuho/Desktop/Github/pra-ta/.venv/lib/python3.8/site-packages (from importlib-resources>=1.4.0->jsonschema->ray==2.9.0->ray[serve]==2.9.0) (3.20.2)\n",
      "Requirement already satisfied: propcache>=0.2.0 in /home/danielpepuho/Desktop/Github/pra-ta/.venv/lib/python3.8/site-packages (from yarl<2.0,>=1.12.0->aiohttp>=3.7->ray[serve]==2.9.0) (0.2.0)\n",
      "Requirement already satisfied: cachetools<6.0,>=2.0.0 in /home/danielpepuho/Desktop/Github/pra-ta/.venv/lib/python3.8/site-packages (from google-auth<3.0.dev0,>=2.14.1->google-api-core<3.0.0,>=1.0.0->opencensus->ray[serve]==2.9.0) (5.5.0)\n",
      "Requirement already satisfied: pyasn1-modules>=0.2.1 in /home/danielpepuho/Desktop/Github/pra-ta/.venv/lib/python3.8/site-packages (from google-auth<3.0.dev0,>=2.14.1->google-api-core<3.0.0,>=1.0.0->opencensus->ray[serve]==2.9.0) (0.4.1)\n",
      "Requirement already satisfied: rsa<5,>=3.1.4 in /home/danielpepuho/Desktop/Github/pra-ta/.venv/lib/python3.8/site-packages (from google-auth<3.0.dev0,>=2.14.1->google-api-core<3.0.0,>=1.0.0->opencensus->ray[serve]==2.9.0) (4.9)\n",
      "Requirement already satisfied: pyasn1<0.7.0,>=0.4.6 in /home/danielpepuho/Desktop/Github/pra-ta/.venv/lib/python3.8/site-packages (from pyasn1-modules>=0.2.1->google-auth<3.0.dev0,>=2.14.1->google-api-core<3.0.0,>=1.0.0->opencensus->ray[serve]==2.9.0) (0.6.1)\n",
      "Note: you may need to restart the kernel to use updated packages.\n"
     ]
    },
    {
     "name": "stderr",
     "output_type": "stream",
     "text": [
      "I0000 00:00:1731463377.294899  578221 fork_posix.cc:77] Other threads are currently calling into gRPC, skipping fork() handlers\n"
     ]
    },
    {
     "name": "stdout",
     "output_type": "stream",
     "text": [
      "E0000 00:00:1731463377.371594  786874 completion_queue.cc:741] Kick failed: UNKNOWN:eventfd_write: Bad file descriptor (9) {created_time:\"2024-11-13T09:02:57.371579318+07:00\"}\n",
      "Requirement already satisfied: ipywidgets in /home/danielpepuho/Desktop/Github/pra-ta/.venv/lib/python3.8/site-packages (8.1.5)\n",
      "Requirement already satisfied: comm>=0.1.3 in /home/danielpepuho/Desktop/Github/pra-ta/.venv/lib/python3.8/site-packages (from ipywidgets) (0.2.2)\n",
      "Requirement already satisfied: ipython>=6.1.0 in /home/danielpepuho/Desktop/Github/pra-ta/.venv/lib/python3.8/site-packages (from ipywidgets) (8.12.3)\n",
      "Requirement already satisfied: traitlets>=4.3.1 in /home/danielpepuho/Desktop/Github/pra-ta/.venv/lib/python3.8/site-packages (from ipywidgets) (5.14.3)\n",
      "Requirement already satisfied: widgetsnbextension~=4.0.12 in /home/danielpepuho/Desktop/Github/pra-ta/.venv/lib/python3.8/site-packages (from ipywidgets) (4.0.13)\n",
      "Requirement already satisfied: jupyterlab-widgets~=3.0.12 in /home/danielpepuho/Desktop/Github/pra-ta/.venv/lib/python3.8/site-packages (from ipywidgets) (3.0.13)\n",
      "Requirement already satisfied: backcall in /home/danielpepuho/Desktop/Github/pra-ta/.venv/lib/python3.8/site-packages (from ipython>=6.1.0->ipywidgets) (0.2.0)\n",
      "Requirement already satisfied: decorator in /home/danielpepuho/Desktop/Github/pra-ta/.venv/lib/python3.8/site-packages (from ipython>=6.1.0->ipywidgets) (5.1.1)\n",
      "Requirement already satisfied: jedi>=0.16 in /home/danielpepuho/Desktop/Github/pra-ta/.venv/lib/python3.8/site-packages (from ipython>=6.1.0->ipywidgets) (0.19.2)\n",
      "Requirement already satisfied: matplotlib-inline in /home/danielpepuho/Desktop/Github/pra-ta/.venv/lib/python3.8/site-packages (from ipython>=6.1.0->ipywidgets) (0.1.7)\n",
      "Requirement already satisfied: pickleshare in /home/danielpepuho/Desktop/Github/pra-ta/.venv/lib/python3.8/site-packages (from ipython>=6.1.0->ipywidgets) (0.7.5)\n",
      "Requirement already satisfied: prompt-toolkit!=3.0.37,<3.1.0,>=3.0.30 in /home/danielpepuho/Desktop/Github/pra-ta/.venv/lib/python3.8/site-packages (from ipython>=6.1.0->ipywidgets) (3.0.48)\n",
      "Requirement already satisfied: pygments>=2.4.0 in /home/danielpepuho/Desktop/Github/pra-ta/.venv/lib/python3.8/site-packages (from ipython>=6.1.0->ipywidgets) (2.18.0)\n",
      "Requirement already satisfied: stack-data in /home/danielpepuho/Desktop/Github/pra-ta/.venv/lib/python3.8/site-packages (from ipython>=6.1.0->ipywidgets) (0.6.3)\n",
      "Requirement already satisfied: typing-extensions in /home/danielpepuho/Desktop/Github/pra-ta/.venv/lib/python3.8/site-packages (from ipython>=6.1.0->ipywidgets) (4.12.2)\n",
      "Requirement already satisfied: pexpect>4.3 in /home/danielpepuho/Desktop/Github/pra-ta/.venv/lib/python3.8/site-packages (from ipython>=6.1.0->ipywidgets) (4.9.0)\n",
      "Requirement already satisfied: parso<0.9.0,>=0.8.4 in /home/danielpepuho/Desktop/Github/pra-ta/.venv/lib/python3.8/site-packages (from jedi>=0.16->ipython>=6.1.0->ipywidgets) (0.8.4)\n",
      "Requirement already satisfied: ptyprocess>=0.5 in /home/danielpepuho/Desktop/Github/pra-ta/.venv/lib/python3.8/site-packages (from pexpect>4.3->ipython>=6.1.0->ipywidgets) (0.7.0)\n",
      "Requirement already satisfied: wcwidth in /home/danielpepuho/Desktop/Github/pra-ta/.venv/lib/python3.8/site-packages (from prompt-toolkit!=3.0.37,<3.1.0,>=3.0.30->ipython>=6.1.0->ipywidgets) (0.2.13)\n",
      "Requirement already satisfied: executing>=1.2.0 in /home/danielpepuho/Desktop/Github/pra-ta/.venv/lib/python3.8/site-packages (from stack-data->ipython>=6.1.0->ipywidgets) (2.1.0)\n",
      "Requirement already satisfied: asttokens>=2.1.0 in /home/danielpepuho/Desktop/Github/pra-ta/.venv/lib/python3.8/site-packages (from stack-data->ipython>=6.1.0->ipywidgets) (2.4.1)\n",
      "Requirement already satisfied: pure-eval in /home/danielpepuho/Desktop/Github/pra-ta/.venv/lib/python3.8/site-packages (from stack-data->ipython>=6.1.0->ipywidgets) (0.2.3)\n",
      "Requirement already satisfied: six>=1.12.0 in /home/danielpepuho/Desktop/Github/pra-ta/.venv/lib/python3.8/site-packages (from asttokens>=2.1.0->stack-data->ipython>=6.1.0->ipywidgets) (1.16.0)\n",
      "Note: you may need to restart the kernel to use updated packages.\n"
     ]
    }
   ],
   "source": [
    "%pip install -U \"ray[client]==2.9.0\"\n",
    "%pip install -U \"ray[serve]==2.9.0\"\n",
    "%pip install -U ipywidgets"
   ]
  },
  {
   "cell_type": "code",
   "execution_count": 15,
   "metadata": {},
   "outputs": [
    {
     "name": "stderr",
     "output_type": "stream",
     "text": [
      "2024-11-13 09:40:18,150\tINFO client_builder.py:243 -- Passing the following kwargs to ray.init() on the server: ignore_reinit_error\n",
      "2024-11-13 09:40:18,152\tINFO client_connect.py:37 -- Calling ray.init() again after it has already been called. Reusing the existing Ray client connection.\n"
     ]
    }
   ],
   "source": [
    "from ray import serve\n",
    "import ray\n",
    "import requests\n",
    "ray.init(\"ray://127.0.0.1:10001\", ignore_reinit_error=True)\n",
    "\n",
    "serve.start()\n"
   ]
  },
  {
   "cell_type": "code",
   "execution_count": 17,
   "metadata": {},
   "outputs": [
    {
     "name": "stdout",
     "output_type": "stream",
     "text": [
      "Cluster Resources: {'CPU': 1.0, 'node:__internal_head__': 1.0, 'object_store_memory': 517437849.0, 'memory': 2000000000.0, 'node:10.244.0.11': 1.0}\n"
     ]
    }
   ],
   "source": [
    "# Get node resource\n",
    "resources = ray.cluster_resources()\n",
    "print(\"Cluster Resources:\", resources)"
   ]
  },
  {
   "cell_type": "code",
   "execution_count": 18,
   "metadata": {},
   "outputs": [
    {
     "name": "stdout",
     "output_type": "stream",
     "text": [
      "Ray Serve is running at: http://127.0.0.1:8000/hello_world\n"
     ]
    }
   ],
   "source": [
    "@serve.deployment\n",
    "def hello_world(request):\n",
    "    return \"Hello, Ray Serve!\"\n",
    "serve.run(hello_world.bind())\n",
    "\n",
    "print(f\"Ray Serve is running at: {hello_world.url}\")"
   ]
  },
  {
   "cell_type": "code",
   "execution_count": null,
   "metadata": {},
   "outputs": [],
   "source": [
    "# get response\n",
    "response = requests.get(\"http://127.0.0.1:8000/hello_world\")\n",
    "print(response.json())"
   ]
  }
 ],
 "metadata": {
  "kernelspec": {
   "display_name": ".venv",
   "language": "python",
   "name": "python3"
  },
  "language_info": {
   "codemirror_mode": {
    "name": "ipython",
    "version": 3
   },
   "file_extension": ".py",
   "mimetype": "text/x-python",
   "name": "python",
   "nbconvert_exporter": "python",
   "pygments_lexer": "ipython3",
   "version": "3.8.20"
  }
 },
 "nbformat": 4,
 "nbformat_minor": 2
}
